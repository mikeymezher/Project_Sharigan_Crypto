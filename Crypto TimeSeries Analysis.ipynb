{
 "cells": [
  {
   "cell_type": "markdown",
   "metadata": {},
   "source": [
    "### This notebook is aimed at analyzing crypto currency price surges "
   ]
  },
  {
   "cell_type": "markdown",
   "metadata": {},
   "source": [
    "Written by Michael Mezher 1/6/17"
   ]
  },
  {
   "cell_type": "code",
   "execution_count": 1,
   "metadata": {
    "collapsed": true
   },
   "outputs": [],
   "source": [
    "import numpy as np\n",
    "from bs4 import BeautifulSoup\n",
    "import requests\n",
    "import pandas as pd\n",
    "import time \n",
    "import csv\n",
    "import os\n",
    "import glob\n",
    "from datetime import date"
   ]
  },
  {
   "cell_type": "markdown",
   "metadata": {},
   "source": [
    "First, collect the complete list of cryptocurrencies of which to scrape time series data"
   ]
  },
  {
   "cell_type": "code",
   "execution_count": 2,
   "metadata": {
    "collapsed": true
   },
   "outputs": [],
   "source": [
    "#Explicitly defined header rows\n",
    "headerRow = ['Date','Open','High','Low','Close','Volume','Market Cap']\n",
    "headerElms = len(headerRow)"
   ]
  },
  {
   "cell_type": "code",
   "execution_count": 3,
   "metadata": {
    "collapsed": true
   },
   "outputs": [],
   "source": [
    "#Import list of  (Copied and pasted from Coin Market Cap homepage)\n",
    "allCryptos = np.ravel(pd.read_csv('1_6_18_ExisitingCryptos.csv',header=None).as_matrix())"
   ]
  },
  {
   "cell_type": "markdown",
   "metadata": {},
   "source": [
    "Next, loop through the compiled list and scrape (May need to implement delay to prevent IP block)"
   ]
  },
  {
   "cell_type": "code",
   "execution_count": null,
   "metadata": {},
   "outputs": [
    {
     "name": "stdout",
     "output_type": "stream",
     "text": [
      "Bitcoin\n",
      "Ripple\n",
      "Ethereum\n",
      "Bitcoin-Cash\n",
      "Cardano\n",
      "Litecoin\n",
      "NEM\n",
      "Stellar\n",
      "IOTA\n",
      "TRON\n",
      "Dash\n",
      "Monero\n",
      "EOS\n",
      "NEO\n",
      "Qtum\n",
      "Bitcoin-Gold\n",
      "RaiBlocks\n",
      "Ethereum-Classic\n",
      "Lisk\n",
      "Siacoin\n",
      "Bytecoin\n",
      "ICON\n",
      "BitConnect\n",
      "Verge\n",
      "BitShares\n",
      "Zcash\n",
      "Binance-Coin\n",
      "OmiseGO\n",
      "Ardor\n",
      "Status\n",
      "Dogecoin\n",
      "Steem\n",
      "Stratis\n",
      "Populous\n",
      "Tether\n",
      "Waves\n",
      "VeChain\n",
      "KuCoin-Shares\n",
      "DigiByte\n",
      "Kin\n",
      "Hshare\n",
      "Dragonchain\n",
      "Komodo\n",
      "Electroneum\n",
      "Golem\n",
      "Experience-Po...\n",
      "Augur\n",
      "Dent\n",
      "PACcoin\n",
      "Veritaseum\n",
      "ReddCoin\n",
      "Ark\n",
      "QASH\n",
      "Decred\n",
      "FunFair\n",
      "Nexus\n",
      "SALT\n",
      "Ethos\n",
      "Basic-Attenti...\n",
      "0x\n",
      "DigitalNote\n",
      "Request-Network\n",
      "Dentacoin\n",
      "PIVX\n",
      "Power-Ledger\n",
      "Bytom\n",
      "Factom\n",
      "Nxt\n",
      "Byteball-Bytes\n",
      "Aeternity\n",
      "Substratum\n",
      "Aion\n",
      "Kyber-Network\n",
      "aelf\n",
      "Gas\n",
      "MonaCoin\n",
      "WAX\n",
      "BitcoinDark\n",
      "MaidSafeCoin\n",
      "Santiment-Net...\n",
      "Gnosis\n",
      "Failed crypto: Gnosis\n",
      "Value error on crypto: Gnosis\n",
      "Po.et\n",
      "Iconomi\n",
      "Civic\n",
      "Enigma\n",
      "Syscoin\n",
      "RChain\n",
      "ZCoin\n",
      "TenX\n",
      "GXShares\n",
      "Walton\n",
      "Quantstamp\n",
      "DigixDAO\n",
      "Storm\n",
      "ChainLink\n",
      "Time-New-Bank\n",
      "Raiden-Networ...\n",
      "ZClassic\n",
      "BLOCKv\n",
      "GameCredits\n",
      "Bancor\n",
      "Achain\n",
      "XTRABYTES\n",
      "Skycoin\n",
      "Storj\n",
      "Enjin-Coin\n",
      "Vertcoin\n",
      "SmartCash\n",
      "Blocknet\n",
      "Cryptonex\n",
      "ETHLend\n",
      "BitBay\n",
      "district0x\n",
      "Revain\n",
      "SONM\n",
      "DeepBrain-Chain\n",
      "IoT-Chain\n",
      "Ambrosus\n",
      "NAV-Coin\n",
      "Ubiq\n",
      "Cindicator\n",
      "Neblio\n",
      "Centra\n",
      "Mooncoin\n",
      "Medibloc\n",
      "Red-Pulse\n",
      "Streamr-DATAcoin\n",
      "SingularDTV\n",
      "Monaco\n",
      "Ripio-Credit-...\n",
      "Burst\n",
      "Einsteinium\n",
      "CyberMiles\n",
      "Edgeless\n",
      "iExec-RLC\n",
      "Decentraland\n",
      "AirSwap\n",
      "Aragon\n",
      "Bread\n",
      "Emercoin\n",
      "Electra\n",
      "BridgeCoin\n",
      "Cobinhood\n",
      "Metaverse-ETP\n",
      "Triggers\n",
      "AdEx\n",
      "FirstBlood\n",
      "Particl\n",
      "Unikoin-Gold\n",
      "Etherparty\n",
      "XPlay\n"
     ]
    }
   ],
   "source": [
    "#Ensure individual file output directory exists and clear directory\n",
    "this_dir = ('/home/michael/Documents/Project_Sharingan_Crypto/' + str(date.today()) + '_individual_cryptos_ts')\n",
    "if not os.path.exists(this_dir):\n",
    "    os.mkdir(this_dir)\n",
    "files = glob.glob(str(this_dir) + '/*')\n",
    "for f in files:\n",
    "    os.remove(f)\n",
    "    \n",
    "allCryptMat = np.array([])\n",
    "\n",
    "for idx,crypto in enumerate(allCryptos): \n",
    "    crypto = crypto[:-1]\n",
    "    crypto = crypto.replace(' ', '-')\n",
    "    print(crypto)\n",
    "    #Explicitly defined header rows\n",
    "    headerRow = ['Date','Open','High','Low','Close','Volume','Market Cap']\n",
    "    headerElms = len(headerRow)\n",
    "    #These pages will be looped through.\n",
    "    this_crypt_page = requests.get(\"https://coinmarketcap.com/currencies/\" + str(crypto) +  \"/historical-data/\")  \n",
    "    crypt_html = BeautifulSoup(this_crypt_page.content, 'html.parser')\n",
    "    pageVals = crypt_html.find_all('td')\n",
    "    #Remove html artifacts\n",
    "    tableElms = [elm.get_text() for elm in list(pageVals)]\n",
    "    #Reshape table such that each row is a date and its corresponding price data. \n",
    "    try:\n",
    "        tableMat = (np.asarray(tableElms))\n",
    "        tableMat = tableMat.reshape(tableMat.shape[0]/headerElms,headerElms)\n",
    "    except ValueError:\n",
    "        print('Failed crypto: ' + str(crypto))\n",
    "        tableMat = []\n",
    "    #Sleep so no ip blocky!\n",
    "    #print(crypto),print(tableMat)\n",
    "    time.sleep(4)\n",
    "    \n",
    "    #Output table matrix to csv\n",
    "    try:\n",
    "        with open(os.path.join(this_dir,str(crypto) + str(date.today()) + '.csv'), 'wb') as csvfile:\n",
    "        #with open(str(crypto) + str(date.today()) + '.csv', 'wb') as csvfile:\n",
    "            writer = csv.writer(csvfile, delimiter=',')\n",
    "            writer.writerow(headerRow)\n",
    "            writer.writerows(tableMat)\n",
    "        #Label original matrix with string ID vector\n",
    "    except IOError:\n",
    "        print('Failed on writing coin to file: ' + str(crypto))\n",
    "    try:\n",
    "        strVect = (np.asarray(([str(crypto)] * len(tableMat))))\n",
    "        strVect = strVect.reshape(len(strVect),1)\n",
    "        labMat = np.append(tableMat,strVect,axis = 1)\n",
    "    except ValueError:\n",
    "        print('Value error on crypto: ' + str(crypto))\n",
    "        labMat = []\n",
    "    if idx == 0: \n",
    "        allCryptMat = labMat\n",
    "    else:\n",
    "        try:\n",
    "            allCryptMat = np.vstack([allCryptMat,labMat])\n",
    "        except:\n",
    "            'Failed merging ' + str(crypto) + ' to full matrix' \n",
    "#Export a complete csv at the end\n",
    "with open('AllCryptos_TS' + str(date.today()) + '.csv', 'wb') as csvfile:\n",
    "        writer = csv.writer(csvfile, delimiter=',')\n",
    "        writer.writerow(headerRow)\n",
    "        writer.writerows(allCryptMat)"
   ]
  },
  {
   "cell_type": "markdown",
   "metadata": {},
   "source": [
    "# Do not run below (Fragments of prototyping code)"
   ]
  },
  {
   "cell_type": "code",
   "execution_count": 1,
   "metadata": {
    "collapsed": true
   },
   "outputs": [],
   "source": [
    "#Example URL: https://coinmarketcap.com/currencies/bitcoin/historical-data/"
   ]
  },
  {
   "cell_type": "code",
   "execution_count": 59,
   "metadata": {
    "collapsed": true
   },
   "outputs": [],
   "source": [
    "#These pages will be looped through.\n",
    "this_crypt_page = requests.get(\"https://coinmarketcap.com/currencies/bitcoin/historical-data/\")  \n",
    "crypt_html = BeautifulSoup(this_crypt_page.content, 'html.parser')\n",
    "pageVals = crypt_html.find_all('td')"
   ]
  },
  {
   "cell_type": "code",
   "execution_count": 85,
   "metadata": {
    "collapsed": true
   },
   "outputs": [],
   "source": [
    "#Remove html artifacts\n",
    "tableElms = [elm.get_text() for elm in list(pageVals)]"
   ]
  },
  {
   "cell_type": "code",
   "execution_count": 86,
   "metadata": {
    "collapsed": true
   },
   "outputs": [],
   "source": [
    "#Reshape table such that each row is a date and its corresponding price data. \n",
    "tableMat = (np.asarray(tableElms))\n",
    "tableMat = tableMat.reshape(tableMat.shape[0]/headerElms,headerElms)"
   ]
  },
  {
   "cell_type": "code",
   "execution_count": 87,
   "metadata": {},
   "outputs": [
    {
     "data": {
      "text/plain": [
       "array([[u'Jan 05, 2018', u'15477.20', u'17705.20', u'15202.80',\n",
       "        u'17429.50', u'23,840,900,000', u'259,748,000,000'],\n",
       "       [u'Jan 04, 2018', u'15270.70', u'15739.70', u'14522.20',\n",
       "        u'15599.20', u'21,783,200,000', u'256,250,000,000'],\n",
       "       [u'Jan 03, 2018', u'14978.20', u'15572.80', u'14844.50',\n",
       "        u'15201.00', u'16,871,900,000', u'251,312,000,000'],\n",
       "       [u'Jan 02, 2018', u'13625.00', u'15444.60', u'13163.60',\n",
       "        u'14982.10', u'16,846,600,000', u'228,579,000,000'],\n",
       "       [u'Jan 01, 2018', u'14112.20', u'14112.20', u'13154.70',\n",
       "        u'13657.20', u'10,291,200,000', u'236,725,000,000'],\n",
       "       [u'Dec 31, 2017', u'12897.70', u'14377.40', u'12755.60',\n",
       "        u'14156.40', u'12,136,300,000', u'216,326,000,000'],\n",
       "       [u'Dec 30, 2017', u'14681.90', u'14681.90', u'12350.10',\n",
       "        u'12952.20', u'14,452,600,000', u'246,224,000,000'],\n",
       "       [u'Dec 29, 2017', u'14695.80', u'15279.00', u'14307.00',\n",
       "        u'14656.20', u'13,025,500,000', u'246,428,000,000'],\n",
       "       [u'Dec 28, 2017', u'15864.10', u'15888.40', u'13937.30',\n",
       "        u'14606.50', u'12,336,500,000', u'265,988,000,000'],\n",
       "       [u'Dec 27, 2017', u'16163.50', u'16930.90', u'15114.30',\n",
       "        u'15838.50', u'12,487,600,000', u'270,976,000,000'],\n",
       "       [u'Dec 26, 2017', u'14036.60', u'16461.20', u'14028.90',\n",
       "        u'16099.80', u'13,454,300,000', u'235,294,000,000'],\n",
       "       [u'Dec 25, 2017', u'13995.90', u'14593.00', u'13448.90',\n",
       "        u'14026.60', u'10,664,700,000', u'234,590,000,000'],\n",
       "       [u'Dec 24, 2017', u'14608.20', u'14626.00', u'12747.70',\n",
       "        u'13925.80', u'11,572,300,000', u'244,824,000,000'],\n",
       "       [u'Dec 23, 2017', u'13948.70', u'15603.20', u'13828.80',\n",
       "        u'14699.20', u'13,086,000,000', u'233,748,000,000'],\n",
       "       [u'Dec 22, 2017', u'15898.00', u'15943.40', u'11833.00',\n",
       "        u'13831.80', u'22,198,000,000', u'266,381,000,000'],\n",
       "       [u'Dec 21, 2017', u'16642.40', u'17567.70', u'15342.70',\n",
       "        u'15802.90', u'16,516,600,000', u'278,827,000,000'],\n",
       "       [u'Dec 20, 2017', u'17760.30', u'17934.70', u'16077.70',\n",
       "        u'16624.60', u'22,149,700,000', u'297,526,000,000'],\n",
       "       [u'Dec 19, 2017', u'19118.30', u'19177.80', u'17275.40',\n",
       "        u'17776.70', u'16,894,500,000', u'320,242,000,000'],\n",
       "       [u'Dec 18, 2017', u'19106.40', u'19371.00', u'18355.90',\n",
       "        u'19114.20', u'14,839,500,000', u'320,000,000,000'],\n",
       "       [u'Dec 17, 2017', u'19475.80', u'20089.00', u'18974.10',\n",
       "        u'19140.80', u'13,314,600,000', u'326,141,000,000'],\n",
       "       [u'Dec 16, 2017', u'17760.30', u'19716.70', u'17515.30',\n",
       "        u'19497.40', u'12,740,600,000', u'297,376,000,000'],\n",
       "       [u'Dec 15, 2017', u'16601.30', u'18154.10', u'16601.30',\n",
       "        u'17706.90', u'14,310,000,000', u'277,936,000,000'],\n",
       "       [u'Dec 14, 2017', u'16384.60', u'17085.80', u'16185.90',\n",
       "        u'16564.00', u'13,777,400,000', u'274,269,000,000'],\n",
       "       [u'Dec 13, 2017', u'17500.00', u'17653.10', u'16039.70',\n",
       "        u'16408.20', u'12,976,900,000', u'292,900,000,000'],\n",
       "       [u'Dec 12, 2017', u'16919.80', u'17781.80', u'16571.60',\n",
       "        u'17415.40', u'14,603,800,000', u'283,155,000,000'],\n",
       "       [u'Dec 11, 2017', u'15427.40', u'17513.90', u'15404.80',\n",
       "        u'16936.80', u'12,153,900,000', u'258,147,000,000'],\n",
       "       [u'Dec 10, 2017', u'15168.40', u'15850.60', u'13226.60',\n",
       "        u'15455.40', u'13,433,300,000', u'253,782,000,000'],\n",
       "       [u'Dec 09, 2017', u'16523.30', u'16783.00', u'13674.90',\n",
       "        u'15178.20', u'13,911,300,000', u'276,415,000,000'],\n",
       "       [u'Dec 08, 2017', u'17802.90', u'18353.40', u'14336.90',\n",
       "        u'16569.40', u'21,136,000,000', u'297,787,000,000'],\n",
       "       [u'Dec 07, 2017', u'14266.10', u'17899.70', u'14057.30',\n",
       "        u'17899.70', u'17,950,700,000', u'238,600,000,000']],\n",
       "      dtype='<U15')"
      ]
     },
     "execution_count": 87,
     "metadata": {},
     "output_type": "execute_result"
    }
   ],
   "source": [
    "tableMat"
   ]
  },
  {
   "cell_type": "code",
   "execution_count": 150,
   "metadata": {
    "collapsed": true
   },
   "outputs": [],
   "source": [
    "with open('AllCryptos_TS' + str(date.today()) + '.csv', 'wb') as csvfile:\n",
    "        writer = csv.writer(csvfile, delimiter=',')\n",
    "        writer.writerow(headerRow)\n",
    "        writer.writerows(allCryptMat)"
   ]
  },
  {
   "cell_type": "code",
   "execution_count": null,
   "metadata": {
    "collapsed": true
   },
   "outputs": [],
   "source": []
  }
 ],
 "metadata": {
  "kernelspec": {
   "display_name": "Python 2",
   "language": "python",
   "name": "python2"
  },
  "language_info": {
   "codemirror_mode": {
    "name": "ipython",
    "version": 2
   },
   "file_extension": ".py",
   "mimetype": "text/x-python",
   "name": "python",
   "nbconvert_exporter": "python",
   "pygments_lexer": "ipython2",
   "version": "2.7.14"
  }
 },
 "nbformat": 4,
 "nbformat_minor": 2
}
