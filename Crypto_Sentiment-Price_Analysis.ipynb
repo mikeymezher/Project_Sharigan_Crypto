{
 "cells": [
  {
   "cell_type": "markdown",
   "metadata": {},
   "source": [
    "### Notebook is aimed at predicting cryptocurrency price surges based on social media sentiment"
   ]
  },
  {
   "cell_type": "markdown",
   "metadata": {},
   "source": [
    "Written by: Michael Mezher 1/7/18"
   ]
  },
  {
   "cell_type": "code",
   "execution_count": 1,
   "metadata": {},
   "outputs": [],
   "source": [
    "import numpy as np\n",
    "from stocktalk import streaming\n",
    "import pandas as pd\n",
    "import time \n",
    "import csv\n",
    "import os\n",
    "import glob\n",
    "from datetime import date"
   ]
  },
  {
   "cell_type": "code",
   "execution_count": 2,
   "metadata": {
    "collapsed": true
   },
   "outputs": [],
   "source": [
    "# Credentials to access Twitter API \n",
    "API_KEY = 'NiPyoFq9ApmYsLDLvf191arOH' \n",
    "API_SECRET = 'qv4oxYoKzOPXh1axnK7ac5b5tcCsLcOCdvu8e9Rqmtu4xnHc0L'\n",
    "ACCESS_TOKEN = '3423130049-E2cs5fCAR4PCyd00uZiVW9uakuB5ttNcSbQD1PW'\n",
    "ACCESS_TOKEN_SECRET = 'ghuQyCJNa5Sl3DWQfRSxTWlhFxxeFyTR52rFaxU1zJJtZ'\n",
    "credentials = [API_KEY, API_SECRET, ACCESS_TOKEN, ACCESS_TOKEN_SECRET]"
   ]
  },
  {
   "cell_type": "code",
   "execution_count": null,
   "metadata": {
    "collapsed": true
   },
   "outputs": [],
   "source": []
  }
 ],
 "metadata": {
  "kernelspec": {
   "display_name": "Python 2",
   "language": "python",
   "name": "python2"
  },
  "language_info": {
   "codemirror_mode": {
    "name": "ipython",
    "version": 2
   },
   "file_extension": ".py",
   "mimetype": "text/x-python",
   "name": "python",
   "nbconvert_exporter": "python",
   "pygments_lexer": "ipython2",
   "version": "2.7.14"
  }
 },
 "nbformat": 4,
 "nbformat_minor": 2
}
